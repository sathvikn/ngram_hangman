{
 "cells": [
  {
   "cell_type": "markdown",
   "metadata": {},
   "source": [
    "In this lab, you will make character-based n-gram models from large samples of text and will check how their predictions compare to those of your (human) classmates on the \"sequential hangman\" task of Shannon (1951). This is broken down into the following tasks:\n",
    "\n",
    "- Required: count the words in the corpus and put them in the appropriate data structure  \n",
    "- Required: compute conditional probability  \n",
    "- Optional: compute # of guesses per position in hangman task  \n",
    "- Provided: compare # of model with # of human guesses  \n",
    "- Optional: compute the probability of a new text file  \n",
    "- Optional: draw strings of a given length from the model  \n",
    "- Optional: implement add-one smoothing  \n",
    "\n",
    "For the “Optional” and “Provided” steps, I have made functions you can use. If you finish the required steps, try implementing your own version of some of the functions provided, especially `getNumberOfGuesses`, `computeProbTestSet` and `generateString`. For all of these functions, I have provided a selection of tests to evaluate whether your implementation produces the same output as mine."
   ]
  },
  {
   "cell_type": "markdown",
   "metadata": {},
   "source": [
    "First, we load the required libraries for the lab:"
   ]
  },
  {
   "cell_type": "code",
   "execution_count": 263,
   "metadata": {
    "collapsed": false
   },
   "outputs": [],
   "source": [
    "%matplotlib inline\n",
    "import pdb # for debugging\n",
    "import numpy as np # for vector operations and math\n",
    "import pandas as pd # for prepping to graph\n",
    "import ggplot # for graphing\n",
    "import json  # to read the experiment results"
   ]
  },
  {
   "cell_type": "markdown",
   "metadata": {},
   "source": [
    "Your first task is to populate a variable called `ngram` with the counts of character sequences observed in a text file.\n",
    "\n",
    "- `ngram` is a dictionary, keys indicate order of the model. For example, `ngram[2]` contains bigram counts, `ngram[3]` contains trigram counts, etc. `ngram[0]` is a special case with the total count of characters  \n",
    "- `ngram[i]` is a dictionary, where keys are character sequences of length $i$\n",
    "- Following the above two constraints, the count for a 3-character sequence like 'plo' would be stored as `ngram[3][‘plo’]`\n",
    "- To populate each order of the model, iterate through the lines of the file, find all sequences of length $n$, and increment the appropriate counts  \n",
    "- To make this easier, I've provided the `subsequences(input_list, n)` function, which returns all consecutive sequences of length `n` in `input_list` as an ordered list of tuples\n",
    " \n"
   ]
  },
  {
   "cell_type": "code",
   "execution_count": 242,
   "metadata": {
    "collapsed": false
   },
   "outputs": [
    {
     "name": "stdout",
     "output_type": "stream",
     "text": [
      "[(0,), (1,), (2,), (3,), (4,), (5,), (6,), (7,), (8,)]\n",
      "[(0, 1), (1, 2), (2, 3), (3, 4), (4, 5), (5, 6), (6, 7), (7, 8)]\n"
     ]
    }
   ],
   "source": [
    "def subsequences(input_list, n):\n",
    "    '''return all consecutive tuples of length n in input_list'''\n",
    "    return(zip(*(input_list[i:] for i in range(n))))\n",
    "\n",
    "# example uses of subsequences on some numeric lists\n",
    "print(subsequences(range(9),1))\n",
    "print(subsequences(range(9),2))"
   ]
  },
  {
   "cell_type": "markdown",
   "metadata": {},
   "source": [
    "We start by initializing the `ngram` variable as a dictionary, where keys 1-3 correspond are embedded dictionaries"
   ]
  },
  {
   "cell_type": "code",
   "execution_count": 21,
   "metadata": {
    "collapsed": false
   },
   "outputs": [],
   "source": [
    "# VISIBLE\n",
    "# initialize storage for the model\n",
    "ngram = {}\n",
    "for i in range(1,4):\n",
    "    ngram[i] = {}"
   ]
  },
  {
   "cell_type": "markdown",
   "metadata": {},
   "source": [
    "Then we open the training data and iterate through the letters in each line. The line is converted to lowercase."
   ]
  },
  {
   "cell_type": "code",
   "execution_count": 22,
   "metadata": {
    "collapsed": false
   },
   "outputs": [],
   "source": [
    "#VISIBLE\n",
    "with open('en_train_ascii.txt','r') as f:\n",
    "    for x in f:\n",
    "        characters = [x.lower() for x in list(x.replace('\\n',''))]        \n",
    "        \n",
    "        # Your code here: populate the counts of `ngram` with the transitions seen in characters\n",
    "        #NOT VISIBLE: Solution for populating the data structure\n",
    "        for i in range(1,4):                        \n",
    "            for char_sequence in subsequences(characters, i):                \n",
    "                if ''.join(char_sequence) in ngram[i]:\n",
    "                    ngram[i][''.join(char_sequence)] += 1\n",
    "                else:\n",
    "                    ngram[i][''.join(char_sequence)] = 1        \n",
    "\n",
    "#NOT VISIBLE: Solution for populating the data structure\n",
    "ngram[0] = np.sum(ngram[1].values())                "
   ]
  },
  {
   "cell_type": "markdown",
   "metadata": {},
   "source": [
    "Test whether you have properly populated the counts in `ngram` by running the tests below. You will see an error if your counts diverge from my implementation. "
   ]
  },
  {
   "cell_type": "code",
   "execution_count": 249,
   "metadata": {
    "collapsed": false
   },
   "outputs": [],
   "source": [
    "# VISIBLE: EVALUATION\n",
    "np.testing.assert_allclose(ngram[3]['str'], 2295)\n",
    "np.testing.assert_allclose(ngram[2]['st'], 34041)\n",
    "np.testing.assert_allclose(ngram[0], 5747649)"
   ]
  },
  {
   "cell_type": "markdown",
   "metadata": {},
   "source": [
    "The `ngram` data structure allows us to (relatively) quickly retrieve the counts that we need to compute the conditional probabilities of character sequences. For example, to compute the conditional probability of 'r' given a preceding 'st', we can take the count of the sequence 'str' and divide by the count of the sequence 'st' (corresponding to the count of 'st\\*' where \\* is any character)"
   ]
  },
  {
   "cell_type": "code",
   "execution_count": 250,
   "metadata": {
    "collapsed": false
   },
   "outputs": [
    {
     "name": "stdout",
     "output_type": "stream",
     "text": [
      "0.0674187009782\n"
     ]
    }
   ],
   "source": [
    "print(float(ngram[3]['str']) / ngram[2]['st'])"
   ]
  },
  {
   "cell_type": "markdown",
   "metadata": {},
   "source": [
    "Variants of the code above will allow you to compute the conditional probability of any sequence, using the counts that we collected from the training text file. Write a function that will generalize the computation of the conditional probability of some character given a (possibly empty) preceding context. If the context is empty, the function should return the unigram count of the character divided by the total numer of characters in the dataset, which you should have stored previously as `ngram[0]`"
   ]
  },
  {
   "cell_type": "code",
   "execution_count": 78,
   "metadata": {
    "collapsed": true
   },
   "outputs": [],
   "source": [
    "# VISIBLE\n",
    "def getProbability(character, context, ngram):\n",
    "    '''get the conditional probability of the character given the context'''\n",
    "    #NOT VISIBLE: Solution for computing probability at any context order\n",
    "    model_order  = len(context) + 1\n",
    "    sequence = ''.join(context + [character])\n",
    "    numerator = ngram[model_order][sequence]\n",
    "    if model_order == 1:\n",
    "        denominator = ngram[model_order-1]\n",
    "    else:    \n",
    "        denominator = ngram[model_order-1][''.join(context)] \n",
    "    return(float(numerator) / float(denominator))\n",
    "        "
   ]
  },
  {
   "cell_type": "markdown",
   "metadata": {},
   "source": [
    "Test whether you are properly computing conditional probabilities using the tests below. Again, you will see an error if your counts diverge from my implementation. Why did I pick 'qu' and 'qa' as test cases?"
   ]
  },
  {
   "cell_type": "code",
   "execution_count": 259,
   "metadata": {
    "collapsed": false
   },
   "outputs": [],
   "source": [
    "np.testing.assert_allclose(getProbability('q',[], ngram), .000461580030374)\n",
    "np.testing.assert_allclose(getProbability('u',['q'], ngram), .975499434602)\n",
    "np.testing.assert_allclose(getProbability('a',['q'], ngram), .00226159065209)"
   ]
  },
  {
   "cell_type": "markdown",
   "metadata": {},
   "source": [
    "Now that we can get the probability of each transition, we can use our unigram, bigram, and trigram language models to play the sequential hangman game"
   ]
  },
  {
   "cell_type": "markdown",
   "metadata": {},
   "source": [
    "# Sequential Hangman"
   ]
  },
  {
   "cell_type": "markdown",
   "metadata": {},
   "source": [
    "Here is the sentence (`sh_chars`) and corresponding counts (`sh_counts`) from the Shannon (1951) paper:"
   ]
  },
  {
   "cell_type": "code",
   "execution_count": null,
   "metadata": {
    "collapsed": true
   },
   "outputs": [],
   "source": [
    "sh_chars = list('there is no reverse on a motorcycle')\n",
    "sh_counts = [1,1,1,5,1,1,2,1,1,2,1,1,15,1,17,1,1,1,2,1,3,2,1,2,2,7,1,1,1,1,4,1,1,1,1]"
   ]
  },
  {
   "cell_type": "code",
   "execution_count": 220,
   "metadata": {
    "collapsed": false
   },
   "outputs": [],
   "source": [
    "#NOT VISIBLE: Some dumb convenience functions for confirming I had transcribed the counts correcly\n",
    "assert(len(sh_chars)== len(sh_counts))\n",
    "bounds = (24,len(sh_counts))\n",
    "print(sh_chars[bounds[0]:bounds[1]])\n",
    "print([str(x) for x in sh_counts[bounds[0]:bounds[1]]])"
   ]
  },
  {
   "cell_type": "markdown",
   "metadata": {},
   "source": [
    "We can plot the number of guesses (y-axis) against the position in the sentence on the x-axis to see where it took people fewer or more guesses to correctlty predict the next letter. Why do you think that R and V in reverse took so many guesses? Why was the beginning of the sentence so easy?"
   ]
  },
  {
   "cell_type": "code",
   "execution_count": 260,
   "metadata": {
    "collapsed": false
   },
   "outputs": [
    {
     "data": {
      "image/png": "[encoded data removed]",
      "text/plain": [
       "<matplotlib.figure.Figure at 0x7f0ff79ea410>"
      ]
     },
     "metadata": {},
     "output_type": "display_data"
    },
    {
     "data": {
      "text/plain": [
       "<ggplot: (8731659508349)>"
      ]
     },
     "execution_count": 260,
     "metadata": {},
     "output_type": "execute_result"
    }
   ],
   "source": [
    "df = pd.DataFrame({'char':sh_chars,'count':sh_counts, 'position':range(len(sh_chars))})\n",
    "ggplot.ggplot(df, ggplot.aes(x='position', y='count')) + ggplot.geom_line(color='red') + ggplot.theme_bw() +\\\n",
    "ggplot.ylab('Number of Guesses') \n",
    "#!!! x-axis labeling and geom_text are both broken in the python version of ggplot"
   ]
  },
  {
   "cell_type": "markdown",
   "metadata": {},
   "source": [
    "How many guesses does each ngram model take? Write a function that guesses character-by-character using up to the specified number of preevious characters. For example, if the specified order is 3, the first guess it should make should be made using the unigram character probabilities; the second with the bigram probabilities, and each thereafter with the trigram probabilities. In each case, try each possible continuation in descending order of their probability. Return a list of the number of counts so that we can compare it with the human data.\n",
    "\n",
    "How does this compare with the number of guesses of a monkeys-on-typewriters model, where all characters are equally likely?"
   ]
  },
  {
   "cell_type": "code",
   "execution_count": 271,
   "metadata": {
    "collapsed": true
   },
   "outputs": [],
   "source": [
    "def getGuessCount(sentence, ngram, order):\n",
    "    raise notImplementedError"
   ]
  },
  {
   "cell_type": "code",
   "execution_count": null,
   "metadata": {
    "collapsed": true
   },
   "outputs": [],
   "source": [
    "np.testing.assert_allclose(getProbability('q',[], ngram), .000461580030374)\n",
    "np.testing.assert_allclose(getProbability('u',['q'], ngram), .975499434602)\n",
    "np.testing.assert_allclose(getProbability('a',['q'], ngram), .00226159065209)"
   ]
  },
  {
   "cell_type": "markdown",
   "metadata": {},
   "source": [
    "We can plot the results of the model against the number of guesses by a person in Shannon (1951)"
   ]
  },
  {
   "cell_type": "code",
   "execution_count": null,
   "metadata": {
    "collapsed": true
   },
   "outputs": [],
   "source": [
    "df = pd.DataFrame({'char':sh_chars,'count':sh_counts, 'position':range(len(sh_chars))})\n",
    "ggplot.ggplot(df, ggplot.aes(x='position', y='count')) + ggplot.geom_line(color='red') + ggplot.theme_bw() +\\\n",
    "ggplot.ylab('Number of Guesses') \n",
    "#!!! add multicolored plots for the number of guesses for the monkeys-on-typewriters, unigram, bigram, trigram models"
   ]
  },
  {
   "cell_type": "markdown",
   "metadata": {},
   "source": [
    "Now that your function works for a single sentence, we will try it on the set of sentences that we collected from everyone."
   ]
  },
  {
   "cell_type": "code",
   "execution_count": null,
   "metadata": {
    "collapsed": true
   },
   "outputs": [],
   "source": [
    "Todo: figure out how to get the counts from Firebase into the notebook as a json."
   ]
  },
  {
   "cell_type": "markdown",
   "metadata": {},
   "source": [
    "# Probability of a held-out text"
   ]
  },
  {
   "cell_type": "markdown",
   "metadata": {},
   "source": [
    "Another thing that we might want to do with the model is evaluate the probability of some text. Though we don't have estiamtes of how probable people think the continuations are, we can compare the log probability of the text to see if the data is more likely under a higher-order model. "
   ]
  },
  {
   "cell_type": "code",
   "execution_count": 85,
   "metadata": {
    "collapsed": false
   },
   "outputs": [],
   "source": [
    "# VISIBLE\n",
    "def computeProbTestSet(filename, order):\n",
    "    probs_store = [] \n",
    "    with open(filename,'r') as f:\n",
    "        for x in f:\n",
    "            words = x.replace('\\n','').split(' ')\n",
    "            characters = [x.lower() for x in list(x.replace('\\n',''))]        \n",
    "            sequences = subsequences(characters,order)\n",
    "            sentence_prob = []\n",
    "            for sequence in sequences:\n",
    "    #             print(sequence[2])\n",
    "    #             print(''.join(list(sequence[0:2])))\n",
    "    #             pdb.set_trace()\n",
    "                sentence_prob.append(np.log(getProbability(sequence[order-1], list(sequence)[0:order-1], ngram)))\n",
    "            probs_store.append(np.sum(sentence_prob))    \n",
    "    print(np.sum(probs_store))"
   ]
  },
  {
   "cell_type": "code",
   "execution_count": 107,
   "metadata": {
    "collapsed": false
   },
   "outputs": [
    {
     "data": {
      "text/plain": [
       "-9491285.0899819471"
      ]
     },
     "execution_count": 107,
     "metadata": {},
     "output_type": "execute_result"
    }
   ],
   "source": [
    "np.log((1/float(27)))*2879780 # where 2879780 is the number of characters in the test set "
   ]
  },
  {
   "cell_type": "code",
   "execution_count": 86,
   "metadata": {
    "collapsed": false
   },
   "outputs": [
    {
     "name": "stdout",
     "output_type": "stream",
     "text": [
      "-8025236.98228\n"
     ]
    }
   ],
   "source": [
    "computeProbTestSet('en_test_within_ascii.txt',1)"
   ]
  },
  {
   "cell_type": "code",
   "execution_count": 87,
   "metadata": {
    "collapsed": false
   },
   "outputs": [
    {
     "name": "stdout",
     "output_type": "stream",
     "text": [
      "-6364835.02565\n"
     ]
    }
   ],
   "source": [
    "computeProbTestSet('en_test_within_ascii.txt',2)"
   ]
  },
  {
   "cell_type": "code",
   "execution_count": 88,
   "metadata": {
    "collapsed": false
   },
   "outputs": [
    {
     "name": "stdout",
     "output_type": "stream",
     "text": [
      "-4885605.8259\n"
     ]
    }
   ],
   "source": [
    "computeProbTestSet('en_test_within_ascii.txt',3)"
   ]
  },
  {
   "cell_type": "markdown",
   "metadata": {},
   "source": [
    "Note that this text file is a subsample of the original text file that we used to train the model. If we test on another file, it is very likely that higher-order models that we have built so far will fail. For example, on a test set of a different set of English movies, the unigram model is fine, but the bigram model fails:"
   ]
  },
  {
   "cell_type": "code",
   "execution_count": 269,
   "metadata": {
    "collapsed": false
   },
   "outputs": [
    {
     "name": "stdout",
     "output_type": "stream",
     "text": [
      "-7792260.22744\n"
     ]
    }
   ],
   "source": [
    "computeProbTestSet('en_test_ascii.txt',1)"
   ]
  },
  {
   "cell_type": "code",
   "execution_count": 270,
   "metadata": {
    "collapsed": false
   },
   "outputs": [
    {
     "ename": "KeyError",
     "evalue": "'jk'",
     "output_type": "error",
     "traceback": [
      "\u001b[1;31m---------------------------------------------------------------------------\u001b[0m",
      "\u001b[1;31mKeyError\u001b[0m                                  Traceback (most recent call last)",
      "\u001b[1;32m<ipython-input-270-faf5d1f40335>\u001b[0m in \u001b[0;36m<module>\u001b[1;34m()\u001b[0m\n\u001b[1;32m----> 1\u001b[1;33m \u001b[0mcomputeProbTestSet\u001b[0m\u001b[1;33m(\u001b[0m\u001b[1;34m'en_test_ascii.txt'\u001b[0m\u001b[1;33m,\u001b[0m\u001b[1;36m2\u001b[0m\u001b[1;33m)\u001b[0m\u001b[1;33m\u001b[0m\u001b[0m\n\u001b[0m",
      "\u001b[1;32m<ipython-input-85-f7d8610e26b4>\u001b[0m in \u001b[0;36mcomputeProbTestSet\u001b[1;34m(filename, order)\u001b[0m\n\u001b[0;32m     12\u001b[0m     \u001b[1;31m#             print(''.join(list(sequence[0:2])))\u001b[0m\u001b[1;33m\u001b[0m\u001b[1;33m\u001b[0m\u001b[0m\n\u001b[0;32m     13\u001b[0m     \u001b[1;31m#             pdb.set_trace()\u001b[0m\u001b[1;33m\u001b[0m\u001b[1;33m\u001b[0m\u001b[0m\n\u001b[1;32m---> 14\u001b[1;33m                 \u001b[0msentence_prob\u001b[0m\u001b[1;33m.\u001b[0m\u001b[0mappend\u001b[0m\u001b[1;33m(\u001b[0m\u001b[0mnp\u001b[0m\u001b[1;33m.\u001b[0m\u001b[0mlog\u001b[0m\u001b[1;33m(\u001b[0m\u001b[0mgetProbability\u001b[0m\u001b[1;33m(\u001b[0m\u001b[0msequence\u001b[0m\u001b[1;33m[\u001b[0m\u001b[0morder\u001b[0m\u001b[1;33m-\u001b[0m\u001b[1;36m1\u001b[0m\u001b[1;33m]\u001b[0m\u001b[1;33m,\u001b[0m \u001b[0mlist\u001b[0m\u001b[1;33m(\u001b[0m\u001b[0msequence\u001b[0m\u001b[1;33m)\u001b[0m\u001b[1;33m[\u001b[0m\u001b[1;36m0\u001b[0m\u001b[1;33m:\u001b[0m\u001b[0morder\u001b[0m\u001b[1;33m-\u001b[0m\u001b[1;36m1\u001b[0m\u001b[1;33m]\u001b[0m\u001b[1;33m,\u001b[0m \u001b[0mngram\u001b[0m\u001b[1;33m)\u001b[0m\u001b[1;33m)\u001b[0m\u001b[1;33m)\u001b[0m\u001b[1;33m\u001b[0m\u001b[0m\n\u001b[0m\u001b[0;32m     15\u001b[0m             \u001b[0mprobs_store\u001b[0m\u001b[1;33m.\u001b[0m\u001b[0mappend\u001b[0m\u001b[1;33m(\u001b[0m\u001b[0mnp\u001b[0m\u001b[1;33m.\u001b[0m\u001b[0msum\u001b[0m\u001b[1;33m(\u001b[0m\u001b[0msentence_prob\u001b[0m\u001b[1;33m)\u001b[0m\u001b[1;33m)\u001b[0m\u001b[1;33m\u001b[0m\u001b[0m\n\u001b[0;32m     16\u001b[0m     \u001b[1;32mprint\u001b[0m\u001b[1;33m(\u001b[0m\u001b[0mnp\u001b[0m\u001b[1;33m.\u001b[0m\u001b[0msum\u001b[0m\u001b[1;33m(\u001b[0m\u001b[0mprobs_store\u001b[0m\u001b[1;33m)\u001b[0m\u001b[1;33m)\u001b[0m\u001b[1;33m\u001b[0m\u001b[0m\n",
      "\u001b[1;32m<ipython-input-78-d2b6c3fa0817>\u001b[0m in \u001b[0;36mgetProbability\u001b[1;34m(character, context, ngram)\u001b[0m\n\u001b[0;32m      4\u001b[0m     \u001b[0mmodel_order\u001b[0m  \u001b[1;33m=\u001b[0m \u001b[0mlen\u001b[0m\u001b[1;33m(\u001b[0m\u001b[0mcontext\u001b[0m\u001b[1;33m)\u001b[0m \u001b[1;33m+\u001b[0m \u001b[1;36m1\u001b[0m\u001b[1;33m\u001b[0m\u001b[0m\n\u001b[0;32m      5\u001b[0m     \u001b[0msequence\u001b[0m \u001b[1;33m=\u001b[0m \u001b[1;34m''\u001b[0m\u001b[1;33m.\u001b[0m\u001b[0mjoin\u001b[0m\u001b[1;33m(\u001b[0m\u001b[0mcontext\u001b[0m \u001b[1;33m+\u001b[0m \u001b[1;33m[\u001b[0m\u001b[0mcharacter\u001b[0m\u001b[1;33m]\u001b[0m\u001b[1;33m)\u001b[0m\u001b[1;33m\u001b[0m\u001b[0m\n\u001b[1;32m----> 6\u001b[1;33m     \u001b[0mnumerator\u001b[0m \u001b[1;33m=\u001b[0m \u001b[0mngram\u001b[0m\u001b[1;33m[\u001b[0m\u001b[0mmodel_order\u001b[0m\u001b[1;33m]\u001b[0m\u001b[1;33m[\u001b[0m\u001b[0msequence\u001b[0m\u001b[1;33m]\u001b[0m\u001b[1;33m\u001b[0m\u001b[0m\n\u001b[0m\u001b[0;32m      7\u001b[0m     \u001b[1;32mif\u001b[0m \u001b[0mmodel_order\u001b[0m \u001b[1;33m==\u001b[0m \u001b[1;36m1\u001b[0m\u001b[1;33m:\u001b[0m\u001b[1;33m\u001b[0m\u001b[0m\n\u001b[0;32m      8\u001b[0m         \u001b[0mdenominator\u001b[0m \u001b[1;33m=\u001b[0m \u001b[0mngram\u001b[0m\u001b[1;33m[\u001b[0m\u001b[1;36m0\u001b[0m\u001b[1;33m]\u001b[0m\u001b[1;33m\u001b[0m\u001b[0m\n",
      "\u001b[1;31mKeyError\u001b[0m: 'jk'"
     ]
    }
   ],
   "source": [
    "computeProbTestSet('en_test_ascii.txt',2)"
   ]
  },
  {
   "cell_type": "markdown",
   "metadata": {},
   "source": [
    "What is going wrong? What would we need to do to our ngram models so that they could provide us with probability estimates of new texts?"
   ]
  },
  {
   "cell_type": "markdown",
   "metadata": {},
   "source": [
    "# Generating strings from the models"
   ]
  },
  {
   "cell_type": "markdown",
   "metadata": {},
   "source": [
    "We might want to generate from the model..."
   ]
  },
  {
   "cell_type": "code",
   "execution_count": 195,
   "metadata": {
    "collapsed": false
   },
   "outputs": [],
   "source": [
    "# VISIBLE\n",
    "def generateString(charlength, ngram, order):    \n",
    "    output = []\n",
    "    for char_index in range(charlength):  \n",
    "        #print('New Letter')\n",
    "        #print(str(max(char_index-(order -1), 0))+' - ' +str(char_index))\n",
    "        preceding_context = output[max(0, char_index-(order -1)):char_index]\n",
    "        #print('preceding_context: ' + ''.join(preceding_context))\n",
    "        \n",
    "        cds = ngram[len(preceding_context)+1].keys()\n",
    "        #but not all of these are consistent with the preceding context\n",
    "        filtered_cds = [x for x in cds if list(x)[0:len(preceding_context)] == preceding_context]\n",
    "        #print(filtered_cds)\n",
    "        \n",
    "        filtered_counts = np.array([ngram[len(preceding_context)+1][x] for x in filtered_cds])\n",
    "        if len(preceding_context) == 0:\n",
    "            normalizer = float(ngram[0])\n",
    "        else:\n",
    "            normalizer = float(np.sum(filtered_counts))\n",
    "            \n",
    "        filtered_probs = filtered_counts / normalizer\n",
    "        #print(np.sum(filtered_probs))\n",
    "        \n",
    "        choice = list(np.random.choice(filtered_cds, p = filtered_probs))[-1]\n",
    "        #print('Choice: '+choice)\n",
    "        output.append(choice)\n",
    "        \n",
    "    return (''.join(output))\n"
   ]
  },
  {
   "cell_type": "code",
   "execution_count": 197,
   "metadata": {
    "collapsed": false
   },
   "outputs": [
    {
     "data": {
      "text/plain": [
       "'nhh t bbht  twn it o etwhrhraooka haui num e bi  tclstarhihasdm n elnaebjr o c oay  os ea hht d og o'"
      ]
     },
     "execution_count": 197,
     "metadata": {},
     "output_type": "execute_result"
    }
   ],
   "source": [
    "generateString(100, ngram, 1)"
   ]
  },
  {
   "cell_type": "code",
   "execution_count": 198,
   "metadata": {
    "collapsed": false
   },
   "outputs": [
    {
     "data": {
      "text/plain": [
       "'ofr at per terit hut y ig y haveresi e ft witavede ckndckwhingetieat ai mauser s wotheas thyoffellie'"
      ]
     },
     "execution_count": 198,
     "metadata": {},
     "output_type": "execute_result"
    }
   ],
   "source": [
    "generateString(100, ngram, 2)"
   ]
  },
  {
   "cell_type": "code",
   "execution_count": 196,
   "metadata": {
    "collapsed": false
   },
   "outputs": [
    {
     "data": {
      "text/plain": [
       "'vere hen oneall the throut las is nowright mpir ritump art wilive hill com sont ifflove you will ric'"
      ]
     },
     "execution_count": 196,
     "metadata": {},
     "output_type": "execute_result"
    }
   ],
   "source": [
    "generateString(100, ngram, 3)"
   ]
  }
 ],
 "metadata": {
  "kernelspec": {
   "display_name": "Python 2",
   "language": "python",
   "name": "python2"
  },
  "language_info": {
   "codemirror_mode": {
    "name": "ipython",
    "version": 2
   },
   "file_extension": ".py",
   "mimetype": "text/x-python",
   "name": "python",
   "nbconvert_exporter": "python",
   "pygments_lexer": "ipython2",
   "version": "2.7.6"
  }
 },
 "nbformat": 4,
 "nbformat_minor": 0
}
